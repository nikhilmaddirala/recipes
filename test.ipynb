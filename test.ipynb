{
 "cells": [
  {
   "cell_type": "markdown",
   "metadata": {},
   "source": [
    "# Notes"
   ]
  },
  {
   "cell_type": "markdown",
   "metadata": {},
   "source": [
    "Remington james PBJ url: https://www.youtube.com/watch?v=kee4P5gwcWw\n",
    "\n",
    "Ec3m oreo mcflurry: https://www.youtube.com/watch?v=4XKOmQvcRLY"
   ]
  },
  {
   "cell_type": "markdown",
   "metadata": {},
   "source": [
    "# Code\n"
   ]
  },
  {
   "cell_type": "code",
   "execution_count": 12,
   "metadata": {},
   "outputs": [
    {
     "data": {
      "text/plain": [
       "{'title': 'Homemade Oreo Protein Ice Cream',\n",
       " 'ingredients': [{'name': 'ice', 'quantity': '480', 'unit': 'grams'},\n",
       "  {'name': '1% milk', 'quantity': '130', 'unit': 'grams'},\n",
       "  {'name': 'fat-free Greek yogurt', 'quantity': '120', 'unit': 'grams'},\n",
       "  {'name': 'vanilla extract', 'quantity': '4.2', 'unit': 'grams'},\n",
       "  {'name': 'salt', 'quantity': '2', 'unit': 'grams'},\n",
       "  {'name': 'vanilla jello sugar-free', 'quantity': '7', 'unit': 'grams'},\n",
       "  {'name': 'xanthan gum', 'quantity': '1.5', 'unit': 'grams'},\n",
       "  {'name': 'guar gum', 'quantity': '1.5', 'unit': 'grams'},\n",
       "  {'name': 'whey casein blend protein powder',\n",
       "   'quantity': '42',\n",
       "   'unit': 'grams'},\n",
       "  {'name': 'black cocoa powder', 'quantity': '10', 'unit': 'grams'},\n",
       "  {'name': 'Swerve sweetener', 'quantity': '30', 'unit': 'grams'},\n",
       "  {'name': 'Oreo cookies', 'quantity': '4', 'unit': 'cookies'}],\n",
       " 'instructions': ['Crush the ice in a blender for 1 minute.',\n",
       "  'Add milk, Greek yogurt, vanilla extract, and salt to the blender; mix well.',\n",
       "  'Add vanilla jello, xanthan gum, guar gum, protein powder, black cocoa powder, and Swerve; blend until smooth.',\n",
       "  'Crush 3 Oreos into the mix; blend again.',\n",
       "  'Chop 1 Oreo and top the ice cream with it.',\n",
       "  'Blend one last time.',\n",
       "  'Serve the homemade Oreo protein ice cream.'],\n",
       " 'nutritional_info': {'calories': '543',\n",
       "  'fat_grams': '15',\n",
       "  'protein_grams': '52',\n",
       "  'carbs_grams': '89',\n",
       "  'fiber_grams': '7',\n",
       "  'number_of_servings': '1'}}"
      ]
     },
     "execution_count": 12,
     "metadata": {},
     "output_type": "execute_result"
    }
   ],
   "source": [
    "from main import *\n",
    "\n",
    "video_id = get_video_id('https://www.youtube.com/watch?v=4XKOmQvcRLY')\n",
    "transcript_text = get_transcript_text(video_id)\n",
    "recipe_from_llm = get_recipe_from_llm(transcript_text)\n",
    "recipe_dict = json.loads(recipe_from_llm)\n",
    "recipe_dict"
   ]
  },
  {
   "cell_type": "code",
   "execution_count": 15,
   "metadata": {},
   "outputs": [],
   "source": [
    "# convert recipe_dict to pandas dataframe\n",
    "import pandas as pd\n",
    "ingredients_df = pd.DataFrame(recipe_dict['ingredients'])\n",
    "instructions_df = pd.DataFrame(recipe_dict['instructions'], columns=['Instructions'])\n",
    "nutritional_info_df = pd.DataFrame([recipe_dict['nutritional_info']])\n"
   ]
  },
  {
   "cell_type": "code",
   "execution_count": 19,
   "metadata": {},
   "outputs": [
    {
     "data": {
      "text/html": [
       "<div>\n",
       "<style scoped>\n",
       "    .dataframe tbody tr th:only-of-type {\n",
       "        vertical-align: middle;\n",
       "    }\n",
       "\n",
       "    .dataframe tbody tr th {\n",
       "        vertical-align: top;\n",
       "    }\n",
       "\n",
       "    .dataframe thead th {\n",
       "        text-align: right;\n",
       "    }\n",
       "</style>\n",
       "<table border=\"1\" class=\"dataframe\">\n",
       "  <thead>\n",
       "    <tr style=\"text-align: right;\">\n",
       "      <th></th>\n",
       "      <th>0</th>\n",
       "    </tr>\n",
       "  </thead>\n",
       "  <tbody>\n",
       "    <tr>\n",
       "      <th>calories</th>\n",
       "      <td>543</td>\n",
       "    </tr>\n",
       "    <tr>\n",
       "      <th>fat_grams</th>\n",
       "      <td>15</td>\n",
       "    </tr>\n",
       "    <tr>\n",
       "      <th>protein_grams</th>\n",
       "      <td>52</td>\n",
       "    </tr>\n",
       "    <tr>\n",
       "      <th>carbs_grams</th>\n",
       "      <td>89</td>\n",
       "    </tr>\n",
       "    <tr>\n",
       "      <th>fiber_grams</th>\n",
       "      <td>7</td>\n",
       "    </tr>\n",
       "    <tr>\n",
       "      <th>number_of_servings</th>\n",
       "      <td>1</td>\n",
       "    </tr>\n",
       "  </tbody>\n",
       "</table>\n",
       "</div>"
      ],
      "text/plain": [
       "                      0\n",
       "calories            543\n",
       "fat_grams            15\n",
       "protein_grams        52\n",
       "carbs_grams          89\n",
       "fiber_grams           7\n",
       "number_of_servings    1"
      ]
     },
     "execution_count": 19,
     "metadata": {},
     "output_type": "execute_result"
    }
   ],
   "source": [
    "# invert rows and columns of nutritional_info_df\n",
    "\n",
    "nutritional_info_df = nutritional_info_df.transpose()\n",
    "nutritional_info_df\n",
    "\n"
   ]
  },
  {
   "cell_type": "markdown",
   "metadata": {},
   "source": [
    "# Test"
   ]
  },
  {
   "cell_type": "code",
   "execution_count": 8,
   "metadata": {},
   "outputs": [],
   "source": [
    "url = 'https://www.youtube.com/watch?v=4XKOmQvcRLY'\n",
    "video_id, transcript_text, recipe_from_llm = get_recipe_from_url(url)"
   ]
  },
  {
   "cell_type": "code",
   "execution_count": null,
   "metadata": {},
   "outputs": [],
   "source": []
  },
  {
   "cell_type": "code",
   "execution_count": null,
   "metadata": {},
   "outputs": [],
   "source": [
    "function = {\n",
    "    \"name\": \"recipe_metadata\",\n",
    "    \"description\": \"A function that takes in a list of arguments related to a children's story and does something with it\",\n",
    "    \"parameters\": {\n",
    "        \"type\": \"object\",\n",
    "        \"properties\": {\n",
    "            \"title\":{\n",
    "                \"type\": \"string\",\n",
    "                \"description\":\"The title of the story\"\n",
    "            },\n",
    "            \"story_text\":{\n",
    "                \"type\": \"string\",\n",
    "                \"description\":\"The text of the story\"\n",
    "            },\n",
    "            \"top_5_words\": {\n",
    "                \"type\": \"array\",\n",
    "                \"description\": \"A list of the 5 hardest words in the story along with its definition.\",\n",
    "                \"items\":{\n",
    "                    \"word\": {\"type\":\"string\", \"description\": \"A difficult word in the story\"},\n",
    "                    \"definition\":{\"type\":\"string\", \"description\":\"The dictionary definition for the word\",\n",
    "                    \"sample_use\":{\"type\":\"array\", \"description\": \"a list of two sample sentences showing how this word can be used.\"}\n",
    "                    }\n",
    "                },\n",
    "            \"word_count\":{\n",
    "                \"type\": \"int\",\n",
    "                \"description\": \"The total number of words in this story\",\n",
    "            }\n",
    "        }}},\n",
    "        \"required\": [\"title\", \"story_text\", \"top_5_words\", \"word_count\"],\n",
    "    }\n"
   ]
  }
 ],
 "metadata": {
  "kernelspec": {
   "display_name": "Python 3",
   "language": "python",
   "name": "python3"
  },
  "language_info": {
   "codemirror_mode": {
    "name": "ipython",
    "version": 3
   },
   "file_extension": ".py",
   "mimetype": "text/x-python",
   "name": "python",
   "nbconvert_exporter": "python",
   "pygments_lexer": "ipython3",
   "version": "3.10.13"
  }
 },
 "nbformat": 4,
 "nbformat_minor": 2
}
