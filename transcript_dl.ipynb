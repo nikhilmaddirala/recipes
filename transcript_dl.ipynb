{
 "cells": [
  {
   "cell_type": "code",
   "execution_count": 2,
   "metadata": {},
   "outputs": [],
   "source": [
    "import os\n",
    "from youtube_transcript_api import YouTubeTranscriptApi\n",
    "\n",
    "def save_transcript(video_id):\n",
    "    # Create the transcripts directory if it doesn't exist\n",
    "    if not os.path.exists('transcripts'):\n",
    "        os.makedirs('transcripts')\n",
    "\n",
    "    # Fetching the transcript\n",
    "    try:\n",
    "        transcript_list = YouTubeTranscriptApi.get_transcript(video_id)\n",
    "        \n",
    "        # Open a file in the transcripts directory to write the transcript\n",
    "        with open(os.path.join('transcripts', f'{video_id}_transcript.txt'), 'w') as f:\n",
    "            for transcript in transcript_list:\n",
    "                # Write each line of the transcript to the file\n",
    "                f.write(transcript['text'] + '\\n')\n",
    "    except Exception as e:\n",
    "        print(f\"An error occurred: {e}\")"
   ]
  },
  {
   "cell_type": "code",
   "execution_count": 5,
   "metadata": {},
   "outputs": [],
   "source": [
    "save_transcript('xz9OLlpmFLw')"
   ]
  },
  {
   "cell_type": "code",
   "execution_count": null,
   "metadata": {},
   "outputs": [],
   "source": []
  }
 ],
 "metadata": {
  "kernelspec": {
   "display_name": "Python 3",
   "language": "python",
   "name": "python3"
  },
  "language_info": {
   "codemirror_mode": {
    "name": "ipython",
    "version": 3
   },
   "file_extension": ".py",
   "mimetype": "text/x-python",
   "name": "python",
   "nbconvert_exporter": "python",
   "pygments_lexer": "ipython3",
   "version": "3.10.13"
  }
 },
 "nbformat": 4,
 "nbformat_minor": 2
}
